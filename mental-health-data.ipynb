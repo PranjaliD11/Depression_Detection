{
 "cells": [
  {
   "cell_type": "code",
   "execution_count": 1,
   "id": "47b3cc5b",
   "metadata": {
    "_cell_guid": "b1076dfc-b9ad-4769-8c92-a6c4dae69d19",
    "_uuid": "8f2839f25d086af736a60e9eeb907d3b93b6e0e5",
    "execution": {
     "iopub.execute_input": "2024-11-26T02:58:38.032386Z",
     "iopub.status.busy": "2024-11-26T02:58:38.031956Z",
     "iopub.status.idle": "2024-11-26T02:58:40.925952Z",
     "shell.execute_reply": "2024-11-26T02:58:40.924768Z"
    },
    "papermill": {
     "duration": 2.907338,
     "end_time": "2024-11-26T02:58:40.928745",
     "exception": false,
     "start_time": "2024-11-26T02:58:38.021407",
     "status": "completed"
    },
    "tags": []
   },
   "outputs": [
    {
     "name": "stdout",
     "output_type": "stream",
     "text": [
      "/kaggle/input/playground-series-s4e11/sample_submission.csv\n",
      "/kaggle/input/playground-series-s4e11/train.csv\n",
      "/kaggle/input/playground-series-s4e11/test.csv\n"
     ]
    }
   ],
   "source": [
    "# This Python 3 environment comes with many helpful analytics libraries installed\n",
    "# It is defined by the kaggle/python Docker image: https://github.com/kaggle/docker-python\n",
    "# For example, here's several helpful packages to load\n",
    "\n",
    "import numpy as np # linear algebra\n",
    "import pandas as pd # data processing, CSV file I/O (e.g. pd.read_csv)\n",
    "import matplotlib.pyplot as plt\n",
    "%matplotlib inline\n",
    "import seaborn as sns\n",
    "# Input data files are available in the read-only \"../input/\" directory\n",
    "# For example, running this (by clicking run or pressing Shift+Enter) will list all files under the input directory\n",
    "\n",
    "import os\n",
    "for dirname, _, filenames in os.walk('/kaggle/input'):\n",
    "    for filename in filenames:\n",
    "        print(os.path.join(dirname, filename))\n",
    "\n",
    "# You can write up to 20GB to the current directory (/kaggle/working/) that gets preserved as output when you create a version using \"Save & Run All\" \n",
    "# You can also write temporary files to /kaggle/temp/, but they won't be saved outside of the current session"
   ]
  },
  {
   "cell_type": "code",
   "execution_count": 2,
   "id": "f8ace689",
   "metadata": {
    "execution": {
     "iopub.execute_input": "2024-11-26T02:58:40.947580Z",
     "iopub.status.busy": "2024-11-26T02:58:40.946308Z",
     "iopub.status.idle": "2024-11-26T02:58:43.179485Z",
     "shell.execute_reply": "2024-11-26T02:58:43.178323Z"
    },
    "papermill": {
     "duration": 2.244983,
     "end_time": "2024-11-26T02:58:43.182332",
     "exception": false,
     "start_time": "2024-11-26T02:58:40.937349",
     "status": "completed"
    },
    "tags": []
   },
   "outputs": [],
   "source": [
    "from sklearn.model_selection import train_test_split, cross_val_score\n",
    "from sklearn.preprocessing import LabelEncoder\n",
    "from sklearn.linear_model import LogisticRegression\n",
    "from catboost import CatBoostClassifier\n",
    "from lightgbm import LGBMClassifier\n",
    "from xgboost import XGBClassifier"
   ]
  },
  {
   "cell_type": "code",
   "execution_count": 3,
   "id": "903f2db3",
   "metadata": {
    "execution": {
     "iopub.execute_input": "2024-11-26T02:58:43.201643Z",
     "iopub.status.busy": "2024-11-26T02:58:43.200979Z",
     "iopub.status.idle": "2024-11-26T02:58:43.206644Z",
     "shell.execute_reply": "2024-11-26T02:58:43.205473Z"
    },
    "papermill": {
     "duration": 0.017214,
     "end_time": "2024-11-26T02:58:43.208843",
     "exception": false,
     "start_time": "2024-11-26T02:58:43.191629",
     "status": "completed"
    },
    "tags": []
   },
   "outputs": [],
   "source": [
    "#filters out warnings\n",
    "import os, warnings\n",
    "warnings.filterwarnings(\"ignore\")"
   ]
  },
  {
   "cell_type": "code",
   "execution_count": 4,
   "id": "f71422a6",
   "metadata": {
    "execution": {
     "iopub.execute_input": "2024-11-26T02:58:43.225792Z",
     "iopub.status.busy": "2024-11-26T02:58:43.225363Z",
     "iopub.status.idle": "2024-11-26T02:58:44.205930Z",
     "shell.execute_reply": "2024-11-26T02:58:44.204702Z"
    },
    "papermill": {
     "duration": 0.992036,
     "end_time": "2024-11-26T02:58:44.208458",
     "exception": false,
     "start_time": "2024-11-26T02:58:43.216422",
     "status": "completed"
    },
    "tags": []
   },
   "outputs": [],
   "source": [
    "train_data=pd.read_csv('/kaggle/input/playground-series-s4e11/train.csv')\n",
    "test_data=pd.read_csv('/kaggle/input/playground-series-s4e11/test.csv')\n",
    "submission=pd.read_csv('/kaggle/input/playground-series-s4e11/sample_submission.csv')"
   ]
  },
  {
   "cell_type": "code",
   "execution_count": 5,
   "id": "ed374af8",
   "metadata": {
    "execution": {
     "iopub.execute_input": "2024-11-26T02:58:44.226065Z",
     "iopub.status.busy": "2024-11-26T02:58:44.225590Z",
     "iopub.status.idle": "2024-11-26T02:58:44.259043Z",
     "shell.execute_reply": "2024-11-26T02:58:44.257791Z"
    },
    "papermill": {
     "duration": 0.044732,
     "end_time": "2024-11-26T02:58:44.261360",
     "exception": false,
     "start_time": "2024-11-26T02:58:44.216628",
     "status": "completed"
    },
    "tags": []
   },
   "outputs": [
    {
     "data": {
      "text/html": [
       "<div>\n",
       "<style scoped>\n",
       "    .dataframe tbody tr th:only-of-type {\n",
       "        vertical-align: middle;\n",
       "    }\n",
       "\n",
       "    .dataframe tbody tr th {\n",
       "        vertical-align: top;\n",
       "    }\n",
       "\n",
       "    .dataframe thead th {\n",
       "        text-align: right;\n",
       "    }\n",
       "</style>\n",
       "<table border=\"1\" class=\"dataframe\">\n",
       "  <thead>\n",
       "    <tr style=\"text-align: right;\">\n",
       "      <th></th>\n",
       "      <th>id</th>\n",
       "      <th>Name</th>\n",
       "      <th>Gender</th>\n",
       "      <th>Age</th>\n",
       "      <th>City</th>\n",
       "      <th>Working Professional or Student</th>\n",
       "      <th>Profession</th>\n",
       "      <th>Academic Pressure</th>\n",
       "      <th>Work Pressure</th>\n",
       "      <th>CGPA</th>\n",
       "      <th>Study Satisfaction</th>\n",
       "      <th>Job Satisfaction</th>\n",
       "      <th>Sleep Duration</th>\n",
       "      <th>Dietary Habits</th>\n",
       "      <th>Degree</th>\n",
       "      <th>Have you ever had suicidal thoughts ?</th>\n",
       "      <th>Work/Study Hours</th>\n",
       "      <th>Financial Stress</th>\n",
       "      <th>Family History of Mental Illness</th>\n",
       "      <th>Depression</th>\n",
       "    </tr>\n",
       "  </thead>\n",
       "  <tbody>\n",
       "    <tr>\n",
       "      <th>0</th>\n",
       "      <td>0</td>\n",
       "      <td>Aaradhya</td>\n",
       "      <td>Female</td>\n",
       "      <td>49.0</td>\n",
       "      <td>Ludhiana</td>\n",
       "      <td>Working Professional</td>\n",
       "      <td>Chef</td>\n",
       "      <td>NaN</td>\n",
       "      <td>5.0</td>\n",
       "      <td>NaN</td>\n",
       "      <td>NaN</td>\n",
       "      <td>2.0</td>\n",
       "      <td>More than 8 hours</td>\n",
       "      <td>Healthy</td>\n",
       "      <td>BHM</td>\n",
       "      <td>No</td>\n",
       "      <td>1.0</td>\n",
       "      <td>2.0</td>\n",
       "      <td>No</td>\n",
       "      <td>0</td>\n",
       "    </tr>\n",
       "    <tr>\n",
       "      <th>1</th>\n",
       "      <td>1</td>\n",
       "      <td>Vivan</td>\n",
       "      <td>Male</td>\n",
       "      <td>26.0</td>\n",
       "      <td>Varanasi</td>\n",
       "      <td>Working Professional</td>\n",
       "      <td>Teacher</td>\n",
       "      <td>NaN</td>\n",
       "      <td>4.0</td>\n",
       "      <td>NaN</td>\n",
       "      <td>NaN</td>\n",
       "      <td>3.0</td>\n",
       "      <td>Less than 5 hours</td>\n",
       "      <td>Unhealthy</td>\n",
       "      <td>LLB</td>\n",
       "      <td>Yes</td>\n",
       "      <td>7.0</td>\n",
       "      <td>3.0</td>\n",
       "      <td>No</td>\n",
       "      <td>1</td>\n",
       "    </tr>\n",
       "    <tr>\n",
       "      <th>2</th>\n",
       "      <td>2</td>\n",
       "      <td>Yuvraj</td>\n",
       "      <td>Male</td>\n",
       "      <td>33.0</td>\n",
       "      <td>Visakhapatnam</td>\n",
       "      <td>Student</td>\n",
       "      <td>NaN</td>\n",
       "      <td>5.0</td>\n",
       "      <td>NaN</td>\n",
       "      <td>8.97</td>\n",
       "      <td>2.0</td>\n",
       "      <td>NaN</td>\n",
       "      <td>5-6 hours</td>\n",
       "      <td>Healthy</td>\n",
       "      <td>B.Pharm</td>\n",
       "      <td>Yes</td>\n",
       "      <td>3.0</td>\n",
       "      <td>1.0</td>\n",
       "      <td>No</td>\n",
       "      <td>1</td>\n",
       "    </tr>\n",
       "    <tr>\n",
       "      <th>3</th>\n",
       "      <td>3</td>\n",
       "      <td>Yuvraj</td>\n",
       "      <td>Male</td>\n",
       "      <td>22.0</td>\n",
       "      <td>Mumbai</td>\n",
       "      <td>Working Professional</td>\n",
       "      <td>Teacher</td>\n",
       "      <td>NaN</td>\n",
       "      <td>5.0</td>\n",
       "      <td>NaN</td>\n",
       "      <td>NaN</td>\n",
       "      <td>1.0</td>\n",
       "      <td>Less than 5 hours</td>\n",
       "      <td>Moderate</td>\n",
       "      <td>BBA</td>\n",
       "      <td>Yes</td>\n",
       "      <td>10.0</td>\n",
       "      <td>1.0</td>\n",
       "      <td>Yes</td>\n",
       "      <td>1</td>\n",
       "    </tr>\n",
       "    <tr>\n",
       "      <th>4</th>\n",
       "      <td>4</td>\n",
       "      <td>Rhea</td>\n",
       "      <td>Female</td>\n",
       "      <td>30.0</td>\n",
       "      <td>Kanpur</td>\n",
       "      <td>Working Professional</td>\n",
       "      <td>Business Analyst</td>\n",
       "      <td>NaN</td>\n",
       "      <td>1.0</td>\n",
       "      <td>NaN</td>\n",
       "      <td>NaN</td>\n",
       "      <td>1.0</td>\n",
       "      <td>5-6 hours</td>\n",
       "      <td>Unhealthy</td>\n",
       "      <td>BBA</td>\n",
       "      <td>Yes</td>\n",
       "      <td>9.0</td>\n",
       "      <td>4.0</td>\n",
       "      <td>Yes</td>\n",
       "      <td>0</td>\n",
       "    </tr>\n",
       "  </tbody>\n",
       "</table>\n",
       "</div>"
      ],
      "text/plain": [
       "   id      Name  Gender   Age           City Working Professional or Student  \\\n",
       "0   0  Aaradhya  Female  49.0       Ludhiana            Working Professional   \n",
       "1   1     Vivan    Male  26.0       Varanasi            Working Professional   \n",
       "2   2    Yuvraj    Male  33.0  Visakhapatnam                         Student   \n",
       "3   3    Yuvraj    Male  22.0         Mumbai            Working Professional   \n",
       "4   4      Rhea  Female  30.0         Kanpur            Working Professional   \n",
       "\n",
       "         Profession  Academic Pressure  Work Pressure  CGPA  \\\n",
       "0              Chef                NaN            5.0   NaN   \n",
       "1           Teacher                NaN            4.0   NaN   \n",
       "2               NaN                5.0            NaN  8.97   \n",
       "3           Teacher                NaN            5.0   NaN   \n",
       "4  Business Analyst                NaN            1.0   NaN   \n",
       "\n",
       "   Study Satisfaction  Job Satisfaction     Sleep Duration Dietary Habits  \\\n",
       "0                 NaN               2.0  More than 8 hours        Healthy   \n",
       "1                 NaN               3.0  Less than 5 hours      Unhealthy   \n",
       "2                 2.0               NaN          5-6 hours        Healthy   \n",
       "3                 NaN               1.0  Less than 5 hours       Moderate   \n",
       "4                 NaN               1.0          5-6 hours      Unhealthy   \n",
       "\n",
       "    Degree Have you ever had suicidal thoughts ?  Work/Study Hours  \\\n",
       "0      BHM                                    No               1.0   \n",
       "1      LLB                                   Yes               7.0   \n",
       "2  B.Pharm                                   Yes               3.0   \n",
       "3      BBA                                   Yes              10.0   \n",
       "4      BBA                                   Yes               9.0   \n",
       "\n",
       "   Financial Stress Family History of Mental Illness  Depression  \n",
       "0               2.0                               No           0  \n",
       "1               3.0                               No           1  \n",
       "2               1.0                               No           1  \n",
       "3               1.0                              Yes           1  \n",
       "4               4.0                              Yes           0  "
      ]
     },
     "execution_count": 5,
     "metadata": {},
     "output_type": "execute_result"
    }
   ],
   "source": [
    "train_data.head()"
   ]
  },
  {
   "cell_type": "code",
   "execution_count": 6,
   "id": "e850a0d7",
   "metadata": {
    "execution": {
     "iopub.execute_input": "2024-11-26T02:58:44.279059Z",
     "iopub.status.busy": "2024-11-26T02:58:44.278596Z",
     "iopub.status.idle": "2024-11-26T02:58:44.285881Z",
     "shell.execute_reply": "2024-11-26T02:58:44.284598Z"
    },
    "papermill": {
     "duration": 0.018747,
     "end_time": "2024-11-26T02:58:44.288092",
     "exception": false,
     "start_time": "2024-11-26T02:58:44.269345",
     "status": "completed"
    },
    "tags": []
   },
   "outputs": [
    {
     "data": {
      "text/plain": [
       "(140700, 20)"
      ]
     },
     "execution_count": 6,
     "metadata": {},
     "output_type": "execute_result"
    }
   ],
   "source": [
    "train_data.shape"
   ]
  },
  {
   "cell_type": "code",
   "execution_count": 7,
   "id": "c16927be",
   "metadata": {
    "execution": {
     "iopub.execute_input": "2024-11-26T02:58:44.306875Z",
     "iopub.status.busy": "2024-11-26T02:58:44.305592Z",
     "iopub.status.idle": "2024-11-26T02:58:44.388222Z",
     "shell.execute_reply": "2024-11-26T02:58:44.386685Z"
    },
    "papermill": {
     "duration": 0.094652,
     "end_time": "2024-11-26T02:58:44.390727",
     "exception": false,
     "start_time": "2024-11-26T02:58:44.296075",
     "status": "completed"
    },
    "tags": []
   },
   "outputs": [
    {
     "name": "stdout",
     "output_type": "stream",
     "text": [
      "id 0.0 % missing values\n",
      "Name 0.0 % missing values\n",
      "Gender 0.0 % missing values\n",
      "Age 0.0 % missing values\n",
      "City 0.0 % missing values\n",
      "Working Professional or Student 0.0 % missing values\n",
      "Profession 0.2603 % missing values\n",
      "Academic Pressure 0.8017 % missing values\n",
      "Work Pressure 0.1984 % missing values\n",
      "CGPA 0.8017 % missing values\n",
      "Study Satisfaction 0.8017 % missing values\n",
      "Job Satisfaction 0.1984 % missing values\n",
      "Sleep Duration 0.0 % missing values\n",
      "Dietary Habits 0.0 % missing values\n",
      "Degree 0.0 % missing values\n",
      "Have you ever had suicidal thoughts ? 0.0 % missing values\n",
      "Work/Study Hours 0.0 % missing values\n",
      "Financial Stress 0.0 % missing values\n",
      "Family History of Mental Illness 0.0 % missing values\n",
      "Depression 0.0 % missing values\n"
     ]
    }
   ],
   "source": [
    "for feature in train_data: \n",
    "    print(feature, np.round(train_data[feature].isnull().mean(),4), '% missing values')"
   ]
  },
  {
   "cell_type": "markdown",
   "id": "4ceb6292",
   "metadata": {
    "papermill": {
     "duration": 0.007808,
     "end_time": "2024-11-26T02:58:44.406728",
     "exception": false,
     "start_time": "2024-11-26T02:58:44.398920",
     "status": "completed"
    },
    "tags": []
   },
   "source": [
    "Academic pressure and study satisfaction have maximum missing values as not everyone is a student "
   ]
  },
  {
   "cell_type": "code",
   "execution_count": 8,
   "id": "a19205f3",
   "metadata": {
    "execution": {
     "iopub.execute_input": "2024-11-26T02:58:44.424453Z",
     "iopub.status.busy": "2024-11-26T02:58:44.424049Z",
     "iopub.status.idle": "2024-11-26T02:58:46.108504Z",
     "shell.execute_reply": "2024-11-26T02:58:46.107285Z"
    },
    "papermill": {
     "duration": 1.69626,
     "end_time": "2024-11-26T02:58:46.110898",
     "exception": false,
     "start_time": "2024-11-26T02:58:44.414638",
     "status": "completed"
    },
    "tags": []
   },
   "outputs": [
    {
     "data": {
      "image/png": "[encoded data removed]",
      "text/plain": [
       "<Figure size 640x480 with 1 Axes>"
      ]
     },
     "metadata": {},
     "output_type": "display_data"
    },
    {
     "data": {
      "image/png": "[encoded data removed]",
      "text/plain": [
       "<Figure size 640x480 with 1 Axes>"
      ]
     },
     "metadata": {},
     "output_type": "display_data"
    },
    {
     "data": {
      "image/png": "[encoded data removed]",
      "text/plain": [
       "<Figure size 640x480 with 1 Axes>"
      ]
     },
     "metadata": {},
     "output_type": "display_data"
    },
    {
     "data": {
      "image/png": "[encoded data removed]",
      "text/plain": [
       "<Figure size 640x480 with 1 Axes>"
      ]
     },
     "metadata": {},
     "output_type": "display_data"
    },
    {
     "data": {
      "image/png": "[encoded data removed]",
      "text/plain": [
       "<Figure size 640x480 with 1 Axes>"
      ]
     },
     "metadata": {},
     "output_type": "display_data"
    },
    {
     "data": {
      "image/png": "[encoded data removed]",
      "text/plain": [
       "<Figure size 640x480 with 1 Axes>"
      ]
     },
     "metadata": {},
     "output_type": "display_data"
    },
    {
     "data": {
      "image/png": "[encoded data removed]",
      "text/plain": [
       "<Figure size 640x480 with 1 Axes>"
      ]
     },
     "metadata": {},
     "output_type": "display_data"
    },
    {
     "data": {
      "image/png": "[encoded data removed]",
      "text/plain": [
       "<Figure size 640x480 with 1 Axes>"
      ]
     },
     "metadata": {},
     "output_type": "display_data"
    },
    {
     "data": {
      "image/png": "[encoded data removed]",
      "text/plain": [
       "<Figure size 640x480 with 1 Axes>"
      ]
     },
     "metadata": {},
     "output_type": "display_data"
    }
   ],
   "source": [
    "#trying to see if they have relation with dependent variable \n",
    "features_with_nan=[feature for feature in train_data.columns if train_data[feature].isnull().sum()>1]\n",
    "for feature in features_with_nan:\n",
    "    data=train_data.copy()\n",
    "    \n",
    "    #we are making a variable where if value is missing it  is set to 1 or it's 0 otherwise\n",
    "    data[feature]=np.where(data[feature].isnull(),1,0)\n",
    "    \n",
    "    # let's calculate the mean of dependent variable where the information is missing or present\n",
    "    data.groupby(feature)['Depression'].median().plot.bar(color=['lightblue','orange'])\n",
    "    plt.title(feature)\n",
    "    plt.show()"
   ]
  },
  {
   "cell_type": "markdown",
   "id": "a70ef8f6",
   "metadata": {
    "papermill": {
     "duration": 0.010159,
     "end_time": "2024-11-26T02:58:46.132850",
     "exception": false,
     "start_time": "2024-11-26T02:58:46.122691",
     "status": "completed"
    },
    "tags": []
   },
   "source": [
    "Observing values above we can notice that missing values in Academic pressure,CGPA and study satisfaction do not have significant impact on our dependent variable."
   ]
  },
  {
   "cell_type": "code",
   "execution_count": 9,
   "id": "d63538d6",
   "metadata": {
    "execution": {
     "iopub.execute_input": "2024-11-26T02:58:46.155957Z",
     "iopub.status.busy": "2024-11-26T02:58:46.155480Z",
     "iopub.status.idle": "2024-11-26T02:58:46.164780Z",
     "shell.execute_reply": "2024-11-26T02:58:46.163514Z"
    },
    "papermill": {
     "duration": 0.023722,
     "end_time": "2024-11-26T02:58:46.167249",
     "exception": false,
     "start_time": "2024-11-26T02:58:46.143527",
     "status": "completed"
    },
    "tags": []
   },
   "outputs": [
    {
     "data": {
      "text/plain": [
       "['id',\n",
       " 'Age',\n",
       " 'Academic Pressure',\n",
       " 'Work Pressure',\n",
       " 'CGPA',\n",
       " 'Study Satisfaction',\n",
       " 'Job Satisfaction',\n",
       " 'Work/Study Hours',\n",
       " 'Financial Stress',\n",
       " 'Depression']"
      ]
     },
     "execution_count": 9,
     "metadata": {},
     "output_type": "execute_result"
    }
   ],
   "source": [
    "numerical_features=[feature for feature in train_data.columns if train_data[feature].dtype!='O']\n",
    "numerical_features"
   ]
  },
  {
   "cell_type": "code",
   "execution_count": 10,
   "id": "6144a85a",
   "metadata": {
    "execution": {
     "iopub.execute_input": "2024-11-26T02:58:46.190381Z",
     "iopub.status.busy": "2024-11-26T02:58:46.189943Z",
     "iopub.status.idle": "2024-11-26T02:58:46.209729Z",
     "shell.execute_reply": "2024-11-26T02:58:46.208505Z"
    },
    "papermill": {
     "duration": 0.034541,
     "end_time": "2024-11-26T02:58:46.212403",
     "exception": false,
     "start_time": "2024-11-26T02:58:46.177862",
     "status": "completed"
    },
    "tags": []
   },
   "outputs": [
    {
     "data": {
      "text/html": [
       "<div>\n",
       "<style scoped>\n",
       "    .dataframe tbody tr th:only-of-type {\n",
       "        vertical-align: middle;\n",
       "    }\n",
       "\n",
       "    .dataframe tbody tr th {\n",
       "        vertical-align: top;\n",
       "    }\n",
       "\n",
       "    .dataframe thead th {\n",
       "        text-align: right;\n",
       "    }\n",
       "</style>\n",
       "<table border=\"1\" class=\"dataframe\">\n",
       "  <thead>\n",
       "    <tr style=\"text-align: right;\">\n",
       "      <th></th>\n",
       "      <th>id</th>\n",
       "      <th>Age</th>\n",
       "      <th>Academic Pressure</th>\n",
       "      <th>Work Pressure</th>\n",
       "      <th>CGPA</th>\n",
       "      <th>Study Satisfaction</th>\n",
       "      <th>Job Satisfaction</th>\n",
       "      <th>Work/Study Hours</th>\n",
       "      <th>Financial Stress</th>\n",
       "      <th>Depression</th>\n",
       "    </tr>\n",
       "  </thead>\n",
       "  <tbody>\n",
       "    <tr>\n",
       "      <th>0</th>\n",
       "      <td>0</td>\n",
       "      <td>49.0</td>\n",
       "      <td>NaN</td>\n",
       "      <td>5.0</td>\n",
       "      <td>NaN</td>\n",
       "      <td>NaN</td>\n",
       "      <td>2.0</td>\n",
       "      <td>1.0</td>\n",
       "      <td>2.0</td>\n",
       "      <td>0</td>\n",
       "    </tr>\n",
       "    <tr>\n",
       "      <th>1</th>\n",
       "      <td>1</td>\n",
       "      <td>26.0</td>\n",
       "      <td>NaN</td>\n",
       "      <td>4.0</td>\n",
       "      <td>NaN</td>\n",
       "      <td>NaN</td>\n",
       "      <td>3.0</td>\n",
       "      <td>7.0</td>\n",
       "      <td>3.0</td>\n",
       "      <td>1</td>\n",
       "    </tr>\n",
       "    <tr>\n",
       "      <th>2</th>\n",
       "      <td>2</td>\n",
       "      <td>33.0</td>\n",
       "      <td>5.0</td>\n",
       "      <td>NaN</td>\n",
       "      <td>8.97</td>\n",
       "      <td>2.0</td>\n",
       "      <td>NaN</td>\n",
       "      <td>3.0</td>\n",
       "      <td>1.0</td>\n",
       "      <td>1</td>\n",
       "    </tr>\n",
       "    <tr>\n",
       "      <th>3</th>\n",
       "      <td>3</td>\n",
       "      <td>22.0</td>\n",
       "      <td>NaN</td>\n",
       "      <td>5.0</td>\n",
       "      <td>NaN</td>\n",
       "      <td>NaN</td>\n",
       "      <td>1.0</td>\n",
       "      <td>10.0</td>\n",
       "      <td>1.0</td>\n",
       "      <td>1</td>\n",
       "    </tr>\n",
       "    <tr>\n",
       "      <th>4</th>\n",
       "      <td>4</td>\n",
       "      <td>30.0</td>\n",
       "      <td>NaN</td>\n",
       "      <td>1.0</td>\n",
       "      <td>NaN</td>\n",
       "      <td>NaN</td>\n",
       "      <td>1.0</td>\n",
       "      <td>9.0</td>\n",
       "      <td>4.0</td>\n",
       "      <td>0</td>\n",
       "    </tr>\n",
       "  </tbody>\n",
       "</table>\n",
       "</div>"
      ],
      "text/plain": [
       "   id   Age  Academic Pressure  Work Pressure  CGPA  Study Satisfaction  \\\n",
       "0   0  49.0                NaN            5.0   NaN                 NaN   \n",
       "1   1  26.0                NaN            4.0   NaN                 NaN   \n",
       "2   2  33.0                5.0            NaN  8.97                 2.0   \n",
       "3   3  22.0                NaN            5.0   NaN                 NaN   \n",
       "4   4  30.0                NaN            1.0   NaN                 NaN   \n",
       "\n",
       "   Job Satisfaction  Work/Study Hours  Financial Stress  Depression  \n",
       "0               2.0               1.0               2.0           0  \n",
       "1               3.0               7.0               3.0           1  \n",
       "2               NaN               3.0               1.0           1  \n",
       "3               1.0              10.0               1.0           1  \n",
       "4               1.0               9.0               4.0           0  "
      ]
     },
     "execution_count": 10,
     "metadata": {},
     "output_type": "execute_result"
    }
   ],
   "source": [
    "train_data[numerical_features].head()"
   ]
  },
  {
   "cell_type": "code",
   "execution_count": 11,
   "id": "b15b995a",
   "metadata": {
    "execution": {
     "iopub.execute_input": "2024-11-26T02:58:46.236690Z",
     "iopub.status.busy": "2024-11-26T02:58:46.235464Z",
     "iopub.status.idle": "2024-11-26T02:58:46.243787Z",
     "shell.execute_reply": "2024-11-26T02:58:46.242405Z"
    },
    "papermill": {
     "duration": 0.023142,
     "end_time": "2024-11-26T02:58:46.246314",
     "exception": false,
     "start_time": "2024-11-26T02:58:46.223172",
     "status": "completed"
    },
    "tags": []
   },
   "outputs": [
    {
     "data": {
      "text/plain": [
       "['Name',\n",
       " 'Gender',\n",
       " 'City',\n",
       " 'Working Professional or Student',\n",
       " 'Profession',\n",
       " 'Sleep Duration',\n",
       " 'Dietary Habits',\n",
       " 'Degree',\n",
       " 'Have you ever had suicidal thoughts ?',\n",
       " 'Family History of Mental Illness']"
      ]
     },
     "execution_count": 11,
     "metadata": {},
     "output_type": "execute_result"
    }
   ],
   "source": [
    "categorical_features=[feature for feature in train_data.columns if train_data[feature].dtype=='O']\n",
    "categorical_features"
   ]
  },
  {
   "cell_type": "code",
   "execution_count": 12,
   "id": "be790602",
   "metadata": {
    "execution": {
     "iopub.execute_input": "2024-11-26T02:58:46.270266Z",
     "iopub.status.busy": "2024-11-26T02:58:46.269838Z",
     "iopub.status.idle": "2024-11-26T02:58:46.294332Z",
     "shell.execute_reply": "2024-11-26T02:58:46.293229Z"
    },
    "papermill": {
     "duration": 0.039679,
     "end_time": "2024-11-26T02:58:46.296885",
     "exception": false,
     "start_time": "2024-11-26T02:58:46.257206",
     "status": "completed"
    },
    "tags": []
   },
   "outputs": [
    {
     "data": {
      "text/html": [
       "<div>\n",
       "<style scoped>\n",
       "    .dataframe tbody tr th:only-of-type {\n",
       "        vertical-align: middle;\n",
       "    }\n",
       "\n",
       "    .dataframe tbody tr th {\n",
       "        vertical-align: top;\n",
       "    }\n",
       "\n",
       "    .dataframe thead th {\n",
       "        text-align: right;\n",
       "    }\n",
       "</style>\n",
       "<table border=\"1\" class=\"dataframe\">\n",
       "  <thead>\n",
       "    <tr style=\"text-align: right;\">\n",
       "      <th></th>\n",
       "      <th>Name</th>\n",
       "      <th>Gender</th>\n",
       "      <th>City</th>\n",
       "      <th>Working Professional or Student</th>\n",
       "      <th>Profession</th>\n",
       "      <th>Sleep Duration</th>\n",
       "      <th>Dietary Habits</th>\n",
       "      <th>Degree</th>\n",
       "      <th>Have you ever had suicidal thoughts ?</th>\n",
       "      <th>Family History of Mental Illness</th>\n",
       "    </tr>\n",
       "  </thead>\n",
       "  <tbody>\n",
       "    <tr>\n",
       "      <th>0</th>\n",
       "      <td>Aaradhya</td>\n",
       "      <td>Female</td>\n",
       "      <td>Ludhiana</td>\n",
       "      <td>Working Professional</td>\n",
       "      <td>Chef</td>\n",
       "      <td>More than 8 hours</td>\n",
       "      <td>Healthy</td>\n",
       "      <td>BHM</td>\n",
       "      <td>No</td>\n",
       "      <td>No</td>\n",
       "    </tr>\n",
       "    <tr>\n",
       "      <th>1</th>\n",
       "      <td>Vivan</td>\n",
       "      <td>Male</td>\n",
       "      <td>Varanasi</td>\n",
       "      <td>Working Professional</td>\n",
       "      <td>Teacher</td>\n",
       "      <td>Less than 5 hours</td>\n",
       "      <td>Unhealthy</td>\n",
       "      <td>LLB</td>\n",
       "      <td>Yes</td>\n",
       "      <td>No</td>\n",
       "    </tr>\n",
       "    <tr>\n",
       "      <th>2</th>\n",
       "      <td>Yuvraj</td>\n",
       "      <td>Male</td>\n",
       "      <td>Visakhapatnam</td>\n",
       "      <td>Student</td>\n",
       "      <td>NaN</td>\n",
       "      <td>5-6 hours</td>\n",
       "      <td>Healthy</td>\n",
       "      <td>B.Pharm</td>\n",
       "      <td>Yes</td>\n",
       "      <td>No</td>\n",
       "    </tr>\n",
       "    <tr>\n",
       "      <th>3</th>\n",
       "      <td>Yuvraj</td>\n",
       "      <td>Male</td>\n",
       "      <td>Mumbai</td>\n",
       "      <td>Working Professional</td>\n",
       "      <td>Teacher</td>\n",
       "      <td>Less than 5 hours</td>\n",
       "      <td>Moderate</td>\n",
       "      <td>BBA</td>\n",
       "      <td>Yes</td>\n",
       "      <td>Yes</td>\n",
       "    </tr>\n",
       "    <tr>\n",
       "      <th>4</th>\n",
       "      <td>Rhea</td>\n",
       "      <td>Female</td>\n",
       "      <td>Kanpur</td>\n",
       "      <td>Working Professional</td>\n",
       "      <td>Business Analyst</td>\n",
       "      <td>5-6 hours</td>\n",
       "      <td>Unhealthy</td>\n",
       "      <td>BBA</td>\n",
       "      <td>Yes</td>\n",
       "      <td>Yes</td>\n",
       "    </tr>\n",
       "  </tbody>\n",
       "</table>\n",
       "</div>"
      ],
      "text/plain": [
       "       Name  Gender           City Working Professional or Student  \\\n",
       "0  Aaradhya  Female       Ludhiana            Working Professional   \n",
       "1     Vivan    Male       Varanasi            Working Professional   \n",
       "2    Yuvraj    Male  Visakhapatnam                         Student   \n",
       "3    Yuvraj    Male         Mumbai            Working Professional   \n",
       "4      Rhea  Female         Kanpur            Working Professional   \n",
       "\n",
       "         Profession     Sleep Duration Dietary Habits   Degree  \\\n",
       "0              Chef  More than 8 hours        Healthy      BHM   \n",
       "1           Teacher  Less than 5 hours      Unhealthy      LLB   \n",
       "2               NaN          5-6 hours        Healthy  B.Pharm   \n",
       "3           Teacher  Less than 5 hours       Moderate      BBA   \n",
       "4  Business Analyst          5-6 hours      Unhealthy      BBA   \n",
       "\n",
       "  Have you ever had suicidal thoughts ? Family History of Mental Illness  \n",
       "0                                    No                               No  \n",
       "1                                   Yes                               No  \n",
       "2                                   Yes                               No  \n",
       "3                                   Yes                              Yes  \n",
       "4                                   Yes                              Yes  "
      ]
     },
     "execution_count": 12,
     "metadata": {},
     "output_type": "execute_result"
    }
   ],
   "source": [
    "train_data[categorical_features].head()"
   ]
  },
  {
   "cell_type": "code",
   "execution_count": 13,
   "id": "b8af863d",
   "metadata": {
    "execution": {
     "iopub.execute_input": "2024-11-26T02:58:46.320585Z",
     "iopub.status.busy": "2024-11-26T02:58:46.320149Z",
     "iopub.status.idle": "2024-11-26T02:58:46.579804Z",
     "shell.execute_reply": "2024-11-26T02:58:46.578137Z"
    },
    "papermill": {
     "duration": 0.27656,
     "end_time": "2024-11-26T02:58:46.584573",
     "exception": false,
     "start_time": "2024-11-26T02:58:46.308013",
     "status": "completed"
    },
    "tags": []
   },
   "outputs": [
    {
     "data": {
      "image/png": "[encoded data removed]",
      "text/plain": [
       "<Figure size 640x480 with 1 Axes>"
      ]
     },
     "metadata": {},
     "output_type": "display_data"
    }
   ],
   "source": [
    "train_data.boxplot(column='Financial Stress')\n",
    "plt.show()"
   ]
  },
  {
   "cell_type": "markdown",
   "id": "d3d62f0c",
   "metadata": {
    "papermill": {
     "duration": 0.010852,
     "end_time": "2024-11-26T02:58:46.616718",
     "exception": false,
     "start_time": "2024-11-26T02:58:46.605866",
     "status": "completed"
    },
    "tags": []
   },
   "source": [
    "# Data Preprocessing "
   ]
  },
  {
   "cell_type": "markdown",
   "id": "686ac7bc",
   "metadata": {
    "papermill": {
     "duration": 0.010899,
     "end_time": "2024-11-26T02:58:46.638796",
     "exception": false,
     "start_time": "2024-11-26T02:58:46.627897",
     "status": "completed"
    },
    "tags": []
   },
   "source": [
    "After checking these we can infer that 80% of them are working professional and 20% are students(based on missing values we can infer that) \n",
    "1. Name is not a necessary factor for predicting depression so we can drop it\n",
    "2. CGPA,Academic Stress, Study satisfaction columns are also being dropped as they have highest missing values as not all  are students\n",
    "3. Similarly Work Pressure,Job Satisfaction,Profession aren't relevant as they have missing values too as 20% are students so we drop them too.\n",
    "4. Degree and Dietary habits have missing values too but they have impact and they are categorical so we fill in with mode\n",
    "5. Financial stress has missing values too, we will use mean as from box plot we don't see any outliers that will affect the mean\n"
   ]
  },
  {
   "cell_type": "code",
   "execution_count": 14,
   "id": "08f4f50c",
   "metadata": {
    "execution": {
     "iopub.execute_input": "2024-11-26T02:58:46.662780Z",
     "iopub.status.busy": "2024-11-26T02:58:46.662356Z",
     "iopub.status.idle": "2024-11-26T02:58:46.690014Z",
     "shell.execute_reply": "2024-11-26T02:58:46.688725Z"
    },
    "papermill": {
     "duration": 0.042938,
     "end_time": "2024-11-26T02:58:46.692828",
     "exception": false,
     "start_time": "2024-11-26T02:58:46.649890",
     "status": "completed"
    },
    "tags": []
   },
   "outputs": [],
   "source": [
    "y=train_data['Depression']\n",
    "train_data.drop(['Depression'], inplace=True,axis=1)"
   ]
  },
  {
   "cell_type": "code",
   "execution_count": 15,
   "id": "506435f6",
   "metadata": {
    "execution": {
     "iopub.execute_input": "2024-11-26T02:58:46.717273Z",
     "iopub.status.busy": "2024-11-26T02:58:46.716894Z",
     "iopub.status.idle": "2024-11-26T02:58:46.928234Z",
     "shell.execute_reply": "2024-11-26T02:58:46.927023Z"
    },
    "papermill": {
     "duration": 0.226916,
     "end_time": "2024-11-26T02:58:46.931071",
     "exception": false,
     "start_time": "2024-11-26T02:58:46.704155",
     "status": "completed"
    },
    "tags": []
   },
   "outputs": [
    {
     "data": {
      "text/html": [
       "<div>\n",
       "<style scoped>\n",
       "    .dataframe tbody tr th:only-of-type {\n",
       "        vertical-align: middle;\n",
       "    }\n",
       "\n",
       "    .dataframe tbody tr th {\n",
       "        vertical-align: top;\n",
       "    }\n",
       "\n",
       "    .dataframe thead th {\n",
       "        text-align: right;\n",
       "    }\n",
       "</style>\n",
       "<table border=\"1\" class=\"dataframe\">\n",
       "  <thead>\n",
       "    <tr style=\"text-align: right;\">\n",
       "      <th></th>\n",
       "      <th>index</th>\n",
       "      <th>id</th>\n",
       "      <th>Name</th>\n",
       "      <th>Gender</th>\n",
       "      <th>Age</th>\n",
       "      <th>City</th>\n",
       "      <th>Working Professional or Student</th>\n",
       "      <th>Profession</th>\n",
       "      <th>Academic Pressure</th>\n",
       "      <th>Work Pressure</th>\n",
       "      <th>CGPA</th>\n",
       "      <th>Study Satisfaction</th>\n",
       "      <th>Job Satisfaction</th>\n",
       "      <th>Sleep Duration</th>\n",
       "      <th>Dietary Habits</th>\n",
       "      <th>Degree</th>\n",
       "      <th>Have you ever had suicidal thoughts ?</th>\n",
       "      <th>Work/Study Hours</th>\n",
       "      <th>Financial Stress</th>\n",
       "      <th>Family History of Mental Illness</th>\n",
       "    </tr>\n",
       "  </thead>\n",
       "  <tbody>\n",
       "    <tr>\n",
       "      <th>0</th>\n",
       "      <td>0</td>\n",
       "      <td>0</td>\n",
       "      <td>Aaradhya</td>\n",
       "      <td>Female</td>\n",
       "      <td>49.0</td>\n",
       "      <td>Ludhiana</td>\n",
       "      <td>Working Professional</td>\n",
       "      <td>Chef</td>\n",
       "      <td>NaN</td>\n",
       "      <td>5.0</td>\n",
       "      <td>NaN</td>\n",
       "      <td>NaN</td>\n",
       "      <td>2.0</td>\n",
       "      <td>More than 8 hours</td>\n",
       "      <td>Healthy</td>\n",
       "      <td>BHM</td>\n",
       "      <td>No</td>\n",
       "      <td>1.0</td>\n",
       "      <td>2.0</td>\n",
       "      <td>No</td>\n",
       "    </tr>\n",
       "    <tr>\n",
       "      <th>1</th>\n",
       "      <td>1</td>\n",
       "      <td>1</td>\n",
       "      <td>Vivan</td>\n",
       "      <td>Male</td>\n",
       "      <td>26.0</td>\n",
       "      <td>Varanasi</td>\n",
       "      <td>Working Professional</td>\n",
       "      <td>Teacher</td>\n",
       "      <td>NaN</td>\n",
       "      <td>4.0</td>\n",
       "      <td>NaN</td>\n",
       "      <td>NaN</td>\n",
       "      <td>3.0</td>\n",
       "      <td>Less than 5 hours</td>\n",
       "      <td>Unhealthy</td>\n",
       "      <td>LLB</td>\n",
       "      <td>Yes</td>\n",
       "      <td>7.0</td>\n",
       "      <td>3.0</td>\n",
       "      <td>No</td>\n",
       "    </tr>\n",
       "    <tr>\n",
       "      <th>2</th>\n",
       "      <td>2</td>\n",
       "      <td>2</td>\n",
       "      <td>Yuvraj</td>\n",
       "      <td>Male</td>\n",
       "      <td>33.0</td>\n",
       "      <td>Visakhapatnam</td>\n",
       "      <td>Student</td>\n",
       "      <td>NaN</td>\n",
       "      <td>5.0</td>\n",
       "      <td>NaN</td>\n",
       "      <td>8.97</td>\n",
       "      <td>2.0</td>\n",
       "      <td>NaN</td>\n",
       "      <td>5-6 hours</td>\n",
       "      <td>Healthy</td>\n",
       "      <td>B.Pharm</td>\n",
       "      <td>Yes</td>\n",
       "      <td>3.0</td>\n",
       "      <td>1.0</td>\n",
       "      <td>No</td>\n",
       "    </tr>\n",
       "    <tr>\n",
       "      <th>3</th>\n",
       "      <td>3</td>\n",
       "      <td>3</td>\n",
       "      <td>Yuvraj</td>\n",
       "      <td>Male</td>\n",
       "      <td>22.0</td>\n",
       "      <td>Mumbai</td>\n",
       "      <td>Working Professional</td>\n",
       "      <td>Teacher</td>\n",
       "      <td>NaN</td>\n",
       "      <td>5.0</td>\n",
       "      <td>NaN</td>\n",
       "      <td>NaN</td>\n",
       "      <td>1.0</td>\n",
       "      <td>Less than 5 hours</td>\n",
       "      <td>Moderate</td>\n",
       "      <td>BBA</td>\n",
       "      <td>Yes</td>\n",
       "      <td>10.0</td>\n",
       "      <td>1.0</td>\n",
       "      <td>Yes</td>\n",
       "    </tr>\n",
       "    <tr>\n",
       "      <th>4</th>\n",
       "      <td>4</td>\n",
       "      <td>4</td>\n",
       "      <td>Rhea</td>\n",
       "      <td>Female</td>\n",
       "      <td>30.0</td>\n",
       "      <td>Kanpur</td>\n",
       "      <td>Working Professional</td>\n",
       "      <td>Business Analyst</td>\n",
       "      <td>NaN</td>\n",
       "      <td>1.0</td>\n",
       "      <td>NaN</td>\n",
       "      <td>NaN</td>\n",
       "      <td>1.0</td>\n",
       "      <td>5-6 hours</td>\n",
       "      <td>Unhealthy</td>\n",
       "      <td>BBA</td>\n",
       "      <td>Yes</td>\n",
       "      <td>9.0</td>\n",
       "      <td>4.0</td>\n",
       "      <td>Yes</td>\n",
       "    </tr>\n",
       "    <tr>\n",
       "      <th>...</th>\n",
       "      <td>...</td>\n",
       "      <td>...</td>\n",
       "      <td>...</td>\n",
       "      <td>...</td>\n",
       "      <td>...</td>\n",
       "      <td>...</td>\n",
       "      <td>...</td>\n",
       "      <td>...</td>\n",
       "      <td>...</td>\n",
       "      <td>...</td>\n",
       "      <td>...</td>\n",
       "      <td>...</td>\n",
       "      <td>...</td>\n",
       "      <td>...</td>\n",
       "      <td>...</td>\n",
       "      <td>...</td>\n",
       "      <td>...</td>\n",
       "      <td>...</td>\n",
       "      <td>...</td>\n",
       "      <td>...</td>\n",
       "    </tr>\n",
       "    <tr>\n",
       "      <th>234495</th>\n",
       "      <td>93795</td>\n",
       "      <td>234495</td>\n",
       "      <td>Zoya</td>\n",
       "      <td>Female</td>\n",
       "      <td>49.0</td>\n",
       "      <td>Jaipur</td>\n",
       "      <td>Working Professional</td>\n",
       "      <td>Pilot</td>\n",
       "      <td>NaN</td>\n",
       "      <td>3.0</td>\n",
       "      <td>NaN</td>\n",
       "      <td>NaN</td>\n",
       "      <td>5.0</td>\n",
       "      <td>Less than 5 hours</td>\n",
       "      <td>Moderate</td>\n",
       "      <td>BSc</td>\n",
       "      <td>Yes</td>\n",
       "      <td>2.0</td>\n",
       "      <td>2.0</td>\n",
       "      <td>Yes</td>\n",
       "    </tr>\n",
       "    <tr>\n",
       "      <th>234496</th>\n",
       "      <td>93796</td>\n",
       "      <td>234496</td>\n",
       "      <td>Shlok</td>\n",
       "      <td>Male</td>\n",
       "      <td>29.0</td>\n",
       "      <td>Ahmedabad</td>\n",
       "      <td>Working Professional</td>\n",
       "      <td>Pilot</td>\n",
       "      <td>NaN</td>\n",
       "      <td>5.0</td>\n",
       "      <td>NaN</td>\n",
       "      <td>NaN</td>\n",
       "      <td>1.0</td>\n",
       "      <td>7-8 hours</td>\n",
       "      <td>Moderate</td>\n",
       "      <td>BE</td>\n",
       "      <td>Yes</td>\n",
       "      <td>11.0</td>\n",
       "      <td>3.0</td>\n",
       "      <td>Yes</td>\n",
       "    </tr>\n",
       "    <tr>\n",
       "      <th>234497</th>\n",
       "      <td>93797</td>\n",
       "      <td>234497</td>\n",
       "      <td>Rishi</td>\n",
       "      <td>Male</td>\n",
       "      <td>24.0</td>\n",
       "      <td>Visakhapatnam</td>\n",
       "      <td>Student</td>\n",
       "      <td>NaN</td>\n",
       "      <td>1.0</td>\n",
       "      <td>NaN</td>\n",
       "      <td>7.51</td>\n",
       "      <td>4.0</td>\n",
       "      <td>NaN</td>\n",
       "      <td>7-8 hours</td>\n",
       "      <td>Moderate</td>\n",
       "      <td>B.Tech</td>\n",
       "      <td>No</td>\n",
       "      <td>7.0</td>\n",
       "      <td>1.0</td>\n",
       "      <td>No</td>\n",
       "    </tr>\n",
       "    <tr>\n",
       "      <th>234498</th>\n",
       "      <td>93798</td>\n",
       "      <td>234498</td>\n",
       "      <td>Eshita</td>\n",
       "      <td>Female</td>\n",
       "      <td>23.0</td>\n",
       "      <td>Kalyan</td>\n",
       "      <td>Working Professional</td>\n",
       "      <td>Marketing Manager</td>\n",
       "      <td>NaN</td>\n",
       "      <td>4.0</td>\n",
       "      <td>NaN</td>\n",
       "      <td>NaN</td>\n",
       "      <td>2.0</td>\n",
       "      <td>5-6 hours</td>\n",
       "      <td>Healthy</td>\n",
       "      <td>BA</td>\n",
       "      <td>Yes</td>\n",
       "      <td>7.0</td>\n",
       "      <td>5.0</td>\n",
       "      <td>Yes</td>\n",
       "    </tr>\n",
       "    <tr>\n",
       "      <th>234499</th>\n",
       "      <td>93799</td>\n",
       "      <td>234499</td>\n",
       "      <td>Gauri</td>\n",
       "      <td>Female</td>\n",
       "      <td>43.0</td>\n",
       "      <td>Varanasi</td>\n",
       "      <td>Working Professional</td>\n",
       "      <td>Educational Consultant</td>\n",
       "      <td>NaN</td>\n",
       "      <td>5.0</td>\n",
       "      <td>NaN</td>\n",
       "      <td>NaN</td>\n",
       "      <td>2.0</td>\n",
       "      <td>More than 8 hours</td>\n",
       "      <td>Healthy</td>\n",
       "      <td>B.Ed</td>\n",
       "      <td>No</td>\n",
       "      <td>11.0</td>\n",
       "      <td>2.0</td>\n",
       "      <td>No</td>\n",
       "    </tr>\n",
       "  </tbody>\n",
       "</table>\n",
       "<p>234500 rows × 20 columns</p>\n",
       "</div>"
      ],
      "text/plain": [
       "        index      id      Name  Gender   Age           City  \\\n",
       "0           0       0  Aaradhya  Female  49.0       Ludhiana   \n",
       "1           1       1     Vivan    Male  26.0       Varanasi   \n",
       "2           2       2    Yuvraj    Male  33.0  Visakhapatnam   \n",
       "3           3       3    Yuvraj    Male  22.0         Mumbai   \n",
       "4           4       4      Rhea  Female  30.0         Kanpur   \n",
       "...       ...     ...       ...     ...   ...            ...   \n",
       "234495  93795  234495      Zoya  Female  49.0         Jaipur   \n",
       "234496  93796  234496     Shlok    Male  29.0      Ahmedabad   \n",
       "234497  93797  234497     Rishi    Male  24.0  Visakhapatnam   \n",
       "234498  93798  234498    Eshita  Female  23.0         Kalyan   \n",
       "234499  93799  234499     Gauri  Female  43.0       Varanasi   \n",
       "\n",
       "       Working Professional or Student              Profession  \\\n",
       "0                 Working Professional                    Chef   \n",
       "1                 Working Professional                 Teacher   \n",
       "2                              Student                     NaN   \n",
       "3                 Working Professional                 Teacher   \n",
       "4                 Working Professional        Business Analyst   \n",
       "...                                ...                     ...   \n",
       "234495            Working Professional                   Pilot   \n",
       "234496            Working Professional                   Pilot   \n",
       "234497                         Student                     NaN   \n",
       "234498            Working Professional       Marketing Manager   \n",
       "234499            Working Professional  Educational Consultant   \n",
       "\n",
       "        Academic Pressure  Work Pressure  CGPA  Study Satisfaction  \\\n",
       "0                     NaN            5.0   NaN                 NaN   \n",
       "1                     NaN            4.0   NaN                 NaN   \n",
       "2                     5.0            NaN  8.97                 2.0   \n",
       "3                     NaN            5.0   NaN                 NaN   \n",
       "4                     NaN            1.0   NaN                 NaN   \n",
       "...                   ...            ...   ...                 ...   \n",
       "234495                NaN            3.0   NaN                 NaN   \n",
       "234496                NaN            5.0   NaN                 NaN   \n",
       "234497                1.0            NaN  7.51                 4.0   \n",
       "234498                NaN            4.0   NaN                 NaN   \n",
       "234499                NaN            5.0   NaN                 NaN   \n",
       "\n",
       "        Job Satisfaction     Sleep Duration Dietary Habits   Degree  \\\n",
       "0                    2.0  More than 8 hours        Healthy      BHM   \n",
       "1                    3.0  Less than 5 hours      Unhealthy      LLB   \n",
       "2                    NaN          5-6 hours        Healthy  B.Pharm   \n",
       "3                    1.0  Less than 5 hours       Moderate      BBA   \n",
       "4                    1.0          5-6 hours      Unhealthy      BBA   \n",
       "...                  ...                ...            ...      ...   \n",
       "234495               5.0  Less than 5 hours       Moderate      BSc   \n",
       "234496               1.0          7-8 hours       Moderate       BE   \n",
       "234497               NaN          7-8 hours       Moderate   B.Tech   \n",
       "234498               2.0          5-6 hours        Healthy       BA   \n",
       "234499               2.0  More than 8 hours        Healthy     B.Ed   \n",
       "\n",
       "       Have you ever had suicidal thoughts ?  Work/Study Hours  \\\n",
       "0                                         No               1.0   \n",
       "1                                        Yes               7.0   \n",
       "2                                        Yes               3.0   \n",
       "3                                        Yes              10.0   \n",
       "4                                        Yes               9.0   \n",
       "...                                      ...               ...   \n",
       "234495                                   Yes               2.0   \n",
       "234496                                   Yes              11.0   \n",
       "234497                                    No               7.0   \n",
       "234498                                   Yes               7.0   \n",
       "234499                                    No              11.0   \n",
       "\n",
       "        Financial Stress Family History of Mental Illness  \n",
       "0                    2.0                               No  \n",
       "1                    3.0                               No  \n",
       "2                    1.0                               No  \n",
       "3                    1.0                              Yes  \n",
       "4                    4.0                              Yes  \n",
       "...                  ...                              ...  \n",
       "234495               2.0                              Yes  \n",
       "234496               3.0                              Yes  \n",
       "234497               1.0                               No  \n",
       "234498               5.0                              Yes  \n",
       "234499               2.0                               No  \n",
       "\n",
       "[234500 rows x 20 columns]"
      ]
     },
     "execution_count": 15,
     "metadata": {},
     "output_type": "execute_result"
    }
   ],
   "source": [
    "train_len=len(train_data) #we are preprocessing both train and test data so we combine it \n",
    "data=pd.concat([train_data,test_data],axis=0).reset_index()\n",
    "data"
   ]
  },
  {
   "cell_type": "code",
   "execution_count": 16,
   "id": "11598c44",
   "metadata": {
    "execution": {
     "iopub.execute_input": "2024-11-26T02:58:46.957042Z",
     "iopub.status.busy": "2024-11-26T02:58:46.956570Z",
     "iopub.status.idle": "2024-11-26T02:58:47.073477Z",
     "shell.execute_reply": "2024-11-26T02:58:47.072319Z"
    },
    "papermill": {
     "duration": 0.133138,
     "end_time": "2024-11-26T02:58:47.076554",
     "exception": false,
     "start_time": "2024-11-26T02:58:46.943416",
     "status": "completed"
    },
    "tags": []
   },
   "outputs": [],
   "source": [
    "#lets start by dropping columns we mentioned above\n",
    "data.drop(['id','index','Name','Profession','Academic Pressure','Work Pressure','CGPA','Study Satisfaction','Job Satisfaction'],axis=1,inplace=True)\n",
    "#filling in missing categories with mode\n",
    "data['Dietary Habits']=data['Dietary Habits'].fillna(data['Dietary Habits'].mode())\n",
    "data['Degree']=data['Degree'].fillna(data['Degree'].mode())\n",
    "\n",
    "#filling in numerical missing values with mean\n",
    "data['Financial Stress']=data['Financial Stress'].fillna(data['Financial Stress'].mean())\n"
   ]
  },
  {
   "cell_type": "code",
   "execution_count": 17,
   "id": "44474386",
   "metadata": {
    "execution": {
     "iopub.execute_input": "2024-11-26T02:58:47.104504Z",
     "iopub.status.busy": "2024-11-26T02:58:47.104089Z",
     "iopub.status.idle": "2024-11-26T02:58:47.135233Z",
     "shell.execute_reply": "2024-11-26T02:58:47.134215Z"
    },
    "papermill": {
     "duration": 0.046799,
     "end_time": "2024-11-26T02:58:47.137333",
     "exception": false,
     "start_time": "2024-11-26T02:58:47.090534",
     "status": "completed"
    },
    "tags": []
   },
   "outputs": [
    {
     "data": {
      "text/plain": [
       "Sleep Duration\n",
       "Less than 5 hours                      64445\n",
       "7-8 hours                              61460\n",
       "More than 8 hours                      54916\n",
       "5-6 hours                              53546\n",
       "6-7 hours                                 15\n",
       "3-4 hours                                 15\n",
       "4-5 hours                                 13\n",
       "2-3 hours                                  9\n",
       "8-9 hours                                  8\n",
       "4-6 hours                                  7\n",
       "1-6 hours                                  6\n",
       "No                                         4\n",
       "6-8 hours                                  4\n",
       "9-5                                        3\n",
       "9-11 hours                                 3\n",
       "1-2 hours                                  3\n",
       "Unhealthy                                  3\n",
       "9-5 hours                                  3\n",
       "Sleep_Duration                             2\n",
       "Meerut                                     2\n",
       "3-6 hours                                  2\n",
       "than 5 hours                               2\n",
       "10-6 hours                                 2\n",
       "45                                         2\n",
       "1-3 hours                                  2\n",
       "9-6 hours                                  2\n",
       "10-11 hours                                2\n",
       "8-89 hours                                 1\n",
       "Have_you_ever_had_suicidal_thoughts        1\n",
       "Vivan                                      1\n",
       "20-21 hours                                1\n",
       "60-65 hours                                1\n",
       "6 hours                                    1\n",
       "50-75 hours                                1\n",
       "0                                          1\n",
       "35-36 hours                                1\n",
       "Pune                                       1\n",
       "45-48 hours                                1\n",
       "Work_Study_Hours                           1\n",
       "49 hours                                   1\n",
       "8 hours                                    1\n",
       "Indore                                     1\n",
       "55-66 hours                                1\n",
       "Moderate                                   1\n",
       "40-45 hours                                1\n",
       "9-10 hours                                 1\n",
       "Name: count, dtype: int64"
      ]
     },
     "execution_count": 17,
     "metadata": {},
     "output_type": "execute_result"
    }
   ],
   "source": [
    "#Understanding sleep duration column\n",
    "data['Sleep Duration'].value_counts()"
   ]
  },
  {
   "cell_type": "markdown",
   "id": "dac6a63d",
   "metadata": {
    "papermill": {
     "duration": 0.011854,
     "end_time": "2024-11-26T02:58:47.161216",
     "exception": false,
     "start_time": "2024-11-26T02:58:47.149362",
     "status": "completed"
    },
    "tags": []
   },
   "source": [
    "Here as observed there are some values which seems to be miss placed and not belonging so those we can set to null\n",
    "Then there are some typing mistakes. We will map those values below"
   ]
  },
  {
   "cell_type": "code",
   "execution_count": 18,
   "id": "59a32a65",
   "metadata": {
    "execution": {
     "iopub.execute_input": "2024-11-26T02:58:47.187617Z",
     "iopub.status.busy": "2024-11-26T02:58:47.186702Z",
     "iopub.status.idle": "2024-11-26T02:58:47.194858Z",
     "shell.execute_reply": "2024-11-26T02:58:47.193623Z"
    },
    "papermill": {
     "duration": 0.023862,
     "end_time": "2024-11-26T02:58:47.197109",
     "exception": false,
     "start_time": "2024-11-26T02:58:47.173247",
     "status": "completed"
    },
    "tags": []
   },
   "outputs": [],
   "source": [
    "sleep_duration_mapping={\n",
    "    'Less than 5 hours': 4,\n",
    "    '7-8 hours': 7.5,\n",
    "    'More than 8 hours':9,\n",
    "    '5-6 hours': 5.5,\n",
    "    '6-7 hours': 6.5,\n",
    "    '3-4 hours': 3.5,\n",
    "    '4-5 hours': 4.5,\n",
    "    '2-3 hours': 2.5,\n",
    "    '8-9 hours': 8.5,\n",
    "    '4-6 hours': 5,\n",
    "    '1-6 hours': 3.5,\n",
    "    'No': np.nan,\n",
    "    '6-8 hours': 7,\n",
    "    '9-5': 7,\n",
    "    '9-11 hours': 10,\n",
    "    '1-2 hours': 1.5,\n",
    "    'Unhealthy': np.nan,\n",
    "    '9-5 hours': 7,\n",
    "    'Sleep_Duration': np.nan,\n",
    "    'Meerut': np.nan,\n",
    "    '3-6 hours': 4.5,\n",
    "    'than 5 hours':4,\n",
    "    '10-6 hours': 8,\n",
    "    '1-3 hours': 2,  \n",
    "    '9-6 hours':  7.5,\n",
    "    '10-11 hours': 10.5,                               \n",
    "    '8-89 hours' : 48.5,                              \n",
    "    'Have_you_ever_had_suicidal_thoughts': np.nan,\n",
    "    'Vivan': np.nan,                                      \n",
    "    '20-21 hours':20.5,\n",
    "    '60-65 hours': 62.5,                                \n",
    "    '6 hours':  6,                                  \n",
    "    '50-75 hours':62.5,                                                                      \n",
    "    '35-36 hours':  35.5,                              \n",
    "    'Pune': np.nan,                                     \n",
    "    '45-48 hours': 46.5,                              \n",
    "    'Work_Study_Hours':np.nan,                          \n",
    "    '49 hours': 49,                                  \n",
    "    '8 hours': 8,                                 \n",
    "    'Indore': np.nan,                                \n",
    "    '55-66 hours': 60.5,\n",
    "    'Moderate': np.nan,                                   \n",
    "    '40-45 hours': 42.5,                               \n",
    "    '9-10 hours':9.5,\n",
    "    '0': 0,\n",
    "    '45': 45\n",
    "}"
   ]
  },
  {
   "cell_type": "code",
   "execution_count": 19,
   "id": "0792fd4c",
   "metadata": {
    "execution": {
     "iopub.execute_input": "2024-11-26T02:58:47.222806Z",
     "iopub.status.busy": "2024-11-26T02:58:47.222353Z",
     "iopub.status.idle": "2024-11-26T02:58:47.761087Z",
     "shell.execute_reply": "2024-11-26T02:58:47.759866Z"
    },
    "papermill": {
     "duration": 0.554205,
     "end_time": "2024-11-26T02:58:47.763290",
     "exception": false,
     "start_time": "2024-11-26T02:58:47.209085",
     "status": "completed"
    },
    "tags": []
   },
   "outputs": [
    {
     "name": "stdout",
     "output_type": "stream",
     "text": [
      "17\n"
     ]
    },
    {
     "data": {
      "text/plain": [
       "Sleep Duration\n",
       "4.0     64447\n",
       "7.5     61462\n",
       "9.0     54916\n",
       "5.5     53546\n",
       "3.5        21\n",
       "6.5        15\n",
       "4.5        15\n",
       "7.0        10\n",
       "2.5         9\n",
       "8.5         8\n",
       "5.0         7\n",
       "8.0         3\n",
       "10.0        3\n",
       "1.5         3\n",
       "10.5        2\n",
       "2.0         2\n",
       "45.0        2\n",
       "62.5        2\n",
       "0.0         1\n",
       "6.0         1\n",
       "20.5        1\n",
       "48.5        1\n",
       "60.5        1\n",
       "46.5        1\n",
       "49.0        1\n",
       "35.5        1\n",
       "42.5        1\n",
       "9.5         1\n",
       "Name: count, dtype: int64"
      ]
     },
     "execution_count": 19,
     "metadata": {},
     "output_type": "execute_result"
    }
   ],
   "source": [
    "data['Sleep Duration']=data['Sleep Duration'].replace(sleep_duration_mapping)\n",
    "print(data['Sleep Duration'].isnull().sum())\n",
    "data['Sleep Duration'].value_counts()"
   ]
  },
  {
   "cell_type": "code",
   "execution_count": 20,
   "id": "82940e5a",
   "metadata": {
    "execution": {
     "iopub.execute_input": "2024-11-26T02:58:47.789728Z",
     "iopub.status.busy": "2024-11-26T02:58:47.789282Z",
     "iopub.status.idle": "2024-11-26T02:58:47.797233Z",
     "shell.execute_reply": "2024-11-26T02:58:47.796279Z"
    },
    "papermill": {
     "duration": 0.023743,
     "end_time": "2024-11-26T02:58:47.799463",
     "exception": false,
     "start_time": "2024-11-26T02:58:47.775720",
     "status": "completed"
    },
    "tags": []
   },
   "outputs": [],
   "source": [
    "data['Sleep Duration']=data['Sleep Duration'].fillna(data['Sleep Duration'].mean())"
   ]
  },
  {
   "cell_type": "code",
   "execution_count": 21,
   "id": "639ab8f2",
   "metadata": {
    "execution": {
     "iopub.execute_input": "2024-11-26T02:58:47.826544Z",
     "iopub.status.busy": "2024-11-26T02:58:47.825411Z",
     "iopub.status.idle": "2024-11-26T02:58:48.151908Z",
     "shell.execute_reply": "2024-11-26T02:58:48.150696Z"
    },
    "papermill": {
     "duration": 0.342684,
     "end_time": "2024-11-26T02:58:48.154434",
     "exception": false,
     "start_time": "2024-11-26T02:58:47.811750",
     "status": "completed"
    },
    "tags": []
   },
   "outputs": [],
   "source": [
    "#encoding cateogrical variables\n",
    "new_categorical_features=['Gender','City','Working Professional or Student','Dietary Habits','Degree','Have you ever had suicidal thoughts ?','Family History of Mental Illness']\n",
    "le=LabelEncoder()\n",
    "for feature in new_categorical_features:\n",
    "    data[feature]=le.fit_transform(data[feature])"
   ]
  },
  {
   "cell_type": "code",
   "execution_count": 22,
   "id": "33d5a0ad",
   "metadata": {
    "execution": {
     "iopub.execute_input": "2024-11-26T02:58:48.180621Z",
     "iopub.status.busy": "2024-11-26T02:58:48.180254Z",
     "iopub.status.idle": "2024-11-26T02:58:48.197210Z",
     "shell.execute_reply": "2024-11-26T02:58:48.195740Z"
    },
    "papermill": {
     "duration": 0.033512,
     "end_time": "2024-11-26T02:58:48.200048",
     "exception": false,
     "start_time": "2024-11-26T02:58:48.166536",
     "status": "completed"
    },
    "tags": []
   },
   "outputs": [
    {
     "data": {
      "text/html": [
       "<div>\n",
       "<style scoped>\n",
       "    .dataframe tbody tr th:only-of-type {\n",
       "        vertical-align: middle;\n",
       "    }\n",
       "\n",
       "    .dataframe tbody tr th {\n",
       "        vertical-align: top;\n",
       "    }\n",
       "\n",
       "    .dataframe thead th {\n",
       "        text-align: right;\n",
       "    }\n",
       "</style>\n",
       "<table border=\"1\" class=\"dataframe\">\n",
       "  <thead>\n",
       "    <tr style=\"text-align: right;\">\n",
       "      <th></th>\n",
       "      <th>Gender</th>\n",
       "      <th>Age</th>\n",
       "      <th>City</th>\n",
       "      <th>Working Professional or Student</th>\n",
       "      <th>Sleep Duration</th>\n",
       "      <th>Dietary Habits</th>\n",
       "      <th>Degree</th>\n",
       "      <th>Have you ever had suicidal thoughts ?</th>\n",
       "      <th>Work/Study Hours</th>\n",
       "      <th>Financial Stress</th>\n",
       "      <th>Family History of Mental Illness</th>\n",
       "    </tr>\n",
       "  </thead>\n",
       "  <tbody>\n",
       "    <tr>\n",
       "      <th>0</th>\n",
       "      <td>0</td>\n",
       "      <td>49.0</td>\n",
       "      <td>62</td>\n",
       "      <td>1</td>\n",
       "      <td>9.0</td>\n",
       "      <td>11</td>\n",
       "      <td>50</td>\n",
       "      <td>0</td>\n",
       "      <td>1.0</td>\n",
       "      <td>2.0</td>\n",
       "      <td>0</td>\n",
       "    </tr>\n",
       "    <tr>\n",
       "      <th>1</th>\n",
       "      <td>1</td>\n",
       "      <td>26.0</td>\n",
       "      <td>118</td>\n",
       "      <td>1</td>\n",
       "      <td>4.0</td>\n",
       "      <td>32</td>\n",
       "      <td>92</td>\n",
       "      <td>1</td>\n",
       "      <td>7.0</td>\n",
       "      <td>3.0</td>\n",
       "      <td>0</td>\n",
       "    </tr>\n",
       "    <tr>\n",
       "      <th>2</th>\n",
       "      <td>1</td>\n",
       "      <td>33.0</td>\n",
       "      <td>123</td>\n",
       "      <td>0</td>\n",
       "      <td>5.5</td>\n",
       "      <td>11</td>\n",
       "      <td>34</td>\n",
       "      <td>1</td>\n",
       "      <td>3.0</td>\n",
       "      <td>1.0</td>\n",
       "      <td>0</td>\n",
       "    </tr>\n",
       "    <tr>\n",
       "      <th>3</th>\n",
       "      <td>1</td>\n",
       "      <td>22.0</td>\n",
       "      <td>79</td>\n",
       "      <td>1</td>\n",
       "      <td>4.0</td>\n",
       "      <td>22</td>\n",
       "      <td>44</td>\n",
       "      <td>1</td>\n",
       "      <td>10.0</td>\n",
       "      <td>1.0</td>\n",
       "      <td>1</td>\n",
       "    </tr>\n",
       "    <tr>\n",
       "      <th>4</th>\n",
       "      <td>0</td>\n",
       "      <td>30.0</td>\n",
       "      <td>46</td>\n",
       "      <td>1</td>\n",
       "      <td>5.5</td>\n",
       "      <td>32</td>\n",
       "      <td>44</td>\n",
       "      <td>1</td>\n",
       "      <td>9.0</td>\n",
       "      <td>4.0</td>\n",
       "      <td>1</td>\n",
       "    </tr>\n",
       "  </tbody>\n",
       "</table>\n",
       "</div>"
      ],
      "text/plain": [
       "   Gender   Age  City  Working Professional or Student  Sleep Duration  \\\n",
       "0       0  49.0    62                                1             9.0   \n",
       "1       1  26.0   118                                1             4.0   \n",
       "2       1  33.0   123                                0             5.5   \n",
       "3       1  22.0    79                                1             4.0   \n",
       "4       0  30.0    46                                1             5.5   \n",
       "\n",
       "   Dietary Habits  Degree  Have you ever had suicidal thoughts ?  \\\n",
       "0              11      50                                      0   \n",
       "1              32      92                                      1   \n",
       "2              11      34                                      1   \n",
       "3              22      44                                      1   \n",
       "4              32      44                                      1   \n",
       "\n",
       "   Work/Study Hours  Financial Stress  Family History of Mental Illness  \n",
       "0               1.0               2.0                                 0  \n",
       "1               7.0               3.0                                 0  \n",
       "2               3.0               1.0                                 0  \n",
       "3              10.0               1.0                                 1  \n",
       "4               9.0               4.0                                 1  "
      ]
     },
     "execution_count": 22,
     "metadata": {},
     "output_type": "execute_result"
    }
   ],
   "source": [
    "data.head()"
   ]
  },
  {
   "cell_type": "markdown",
   "id": "cada01e4",
   "metadata": {
    "papermill": {
     "duration": 0.014513,
     "end_time": "2024-11-26T02:58:48.227374",
     "exception": false,
     "start_time": "2024-11-26T02:58:48.212861",
     "status": "completed"
    },
    "tags": []
   },
   "source": [
    "After preprocessing we split dataset again"
   ]
  },
  {
   "cell_type": "code",
   "execution_count": 23,
   "id": "355ae57c",
   "metadata": {
    "execution": {
     "iopub.execute_input": "2024-11-26T02:58:48.254121Z",
     "iopub.status.busy": "2024-11-26T02:58:48.253696Z",
     "iopub.status.idle": "2024-11-26T02:58:48.259485Z",
     "shell.execute_reply": "2024-11-26T02:58:48.258216Z"
    },
    "papermill": {
     "duration": 0.021849,
     "end_time": "2024-11-26T02:58:48.261924",
     "exception": false,
     "start_time": "2024-11-26T02:58:48.240075",
     "status": "completed"
    },
    "tags": []
   },
   "outputs": [],
   "source": [
    "train=data[:train_len]\n",
    "test=data[train_len:]"
   ]
  },
  {
   "cell_type": "code",
   "execution_count": 24,
   "id": "5f3b2fb5",
   "metadata": {
    "execution": {
     "iopub.execute_input": "2024-11-26T02:58:48.288948Z",
     "iopub.status.busy": "2024-11-26T02:58:48.288504Z",
     "iopub.status.idle": "2024-11-26T02:58:48.324314Z",
     "shell.execute_reply": "2024-11-26T02:58:48.322753Z"
    },
    "papermill": {
     "duration": 0.05265,
     "end_time": "2024-11-26T02:58:48.327068",
     "exception": false,
     "start_time": "2024-11-26T02:58:48.274418",
     "status": "completed"
    },
    "tags": []
   },
   "outputs": [],
   "source": [
    "#we split train data into training set and validation set\n",
    "from sklearn.model_selection import train_test_split\n",
    "X_train, X_val,y_train, y_val=train_test_split(train, y, test_size=0.2,random_state=42)\n"
   ]
  },
  {
   "cell_type": "markdown",
   "id": "50012084",
   "metadata": {
    "papermill": {
     "duration": 0.012012,
     "end_time": "2024-11-26T02:58:48.351505",
     "exception": false,
     "start_time": "2024-11-26T02:58:48.339493",
     "status": "completed"
    },
    "tags": []
   },
   "source": [
    "# Model Training"
   ]
  },
  {
   "cell_type": "code",
   "execution_count": 25,
   "id": "0e92cffa",
   "metadata": {
    "execution": {
     "iopub.execute_input": "2024-11-26T02:58:48.378856Z",
     "iopub.status.busy": "2024-11-26T02:58:48.378381Z",
     "iopub.status.idle": "2024-11-26T02:58:48.384623Z",
     "shell.execute_reply": "2024-11-26T02:58:48.383521Z"
    },
    "papermill": {
     "duration": 0.023414,
     "end_time": "2024-11-26T02:58:48.387312",
     "exception": false,
     "start_time": "2024-11-26T02:58:48.363898",
     "status": "completed"
    },
    "tags": []
   },
   "outputs": [],
   "source": [
    "def classify(model):\n",
    "    model.fit(X_train,y_train)\n",
    "    print(\"Accuracy:\",model.score(X_train,y_train))\n",
    "    score=cross_val_score(model,train,y,cv=5)\n",
    "    print(\"CV score\",np.mean(score))"
   ]
  },
  {
   "cell_type": "code",
   "execution_count": 26,
   "id": "18e0b647",
   "metadata": {
    "execution": {
     "iopub.execute_input": "2024-11-26T02:58:48.414825Z",
     "iopub.status.busy": "2024-11-26T02:58:48.414357Z",
     "iopub.status.idle": "2024-11-26T02:58:56.117996Z",
     "shell.execute_reply": "2024-11-26T02:58:56.115221Z"
    },
    "papermill": {
     "duration": 7.721836,
     "end_time": "2024-11-26T02:58:56.122117",
     "exception": false,
     "start_time": "2024-11-26T02:58:48.400281",
     "status": "completed"
    },
    "tags": []
   },
   "outputs": [
    {
     "name": "stdout",
     "output_type": "stream",
     "text": [
      "Accuracy: 0.9228056147832268\n",
      "CV score 0.9225230987917555\n"
     ]
    }
   ],
   "source": [
    "classify(LogisticRegression())"
   ]
  },
  {
   "cell_type": "code",
   "execution_count": 27,
   "id": "bccfd439",
   "metadata": {
    "execution": {
     "iopub.execute_input": "2024-11-26T02:58:56.202335Z",
     "iopub.status.busy": "2024-11-26T02:58:56.200625Z",
     "iopub.status.idle": "2024-11-26T02:59:00.469792Z",
     "shell.execute_reply": "2024-11-26T02:59:00.468833Z"
    },
    "papermill": {
     "duration": 4.314966,
     "end_time": "2024-11-26T02:59:00.472623",
     "exception": false,
     "start_time": "2024-11-26T02:58:56.157657",
     "status": "completed"
    },
    "tags": []
   },
   "outputs": [
    {
     "name": "stdout",
     "output_type": "stream",
     "text": [
      "Accuracy: 0.9358742004264392\n",
      "CV score 0.9226439232409381\n"
     ]
    }
   ],
   "source": [
    "classify(XGBClassifier())"
   ]
  },
  {
   "cell_type": "code",
   "execution_count": 28,
   "id": "b72b171f",
   "metadata": {
    "execution": {
     "iopub.execute_input": "2024-11-26T02:59:00.501090Z",
     "iopub.status.busy": "2024-11-26T02:59:00.500103Z",
     "iopub.status.idle": "2024-11-26T02:59:09.928219Z",
     "shell.execute_reply": "2024-11-26T02:59:09.926655Z"
    },
    "papermill": {
     "duration": 9.444343,
     "end_time": "2024-11-26T02:59:09.930715",
     "exception": false,
     "start_time": "2024-11-26T02:59:00.486372",
     "status": "completed"
    },
    "tags": []
   },
   "outputs": [
    {
     "name": "stdout",
     "output_type": "stream",
     "text": [
      "[LightGBM] [Warning] Found whitespace in feature_names, replace with underlines\n",
      "Accuracy: 0.9278518123667377\n",
      "[LightGBM] [Warning] Found whitespace in feature_names, replace with underlines\n",
      "[LightGBM] [Warning] Found whitespace in feature_names, replace with underlines\n",
      "[LightGBM] [Warning] Found whitespace in feature_names, replace with underlines\n",
      "[LightGBM] [Warning] Found whitespace in feature_names, replace with underlines\n",
      "[LightGBM] [Warning] Found whitespace in feature_names, replace with underlines\n",
      "CV score 0.924136460554371\n"
     ]
    }
   ],
   "source": [
    "classify(LGBMClassifier(verbose=0))"
   ]
  },
  {
   "cell_type": "code",
   "execution_count": 29,
   "id": "183c6c38",
   "metadata": {
    "execution": {
     "iopub.execute_input": "2024-11-26T02:59:09.960052Z",
     "iopub.status.busy": "2024-11-26T02:59:09.959500Z",
     "iopub.status.idle": "2024-11-26T03:00:40.747200Z",
     "shell.execute_reply": "2024-11-26T03:00:40.745991Z"
    },
    "papermill": {
     "duration": 90.819084,
     "end_time": "2024-11-26T03:00:40.763177",
     "exception": false,
     "start_time": "2024-11-26T02:59:09.944093",
     "status": "completed"
    },
    "tags": []
   },
   "outputs": [
    {
     "name": "stdout",
     "output_type": "stream",
     "text": [
      "Accuracy: 0.9333866382373845\n",
      "CV score 0.9238877043354655\n"
     ]
    }
   ],
   "source": [
    "classify(CatBoostClassifier(verbose=0))"
   ]
  },
  {
   "cell_type": "markdown",
   "id": "9a988b64",
   "metadata": {
    "papermill": {
     "duration": 0.012659,
     "end_time": "2024-11-26T03:00:40.788701",
     "exception": false,
     "start_time": "2024-11-26T03:00:40.776042",
     "status": "completed"
    },
    "tags": []
   },
   "source": [
    "XGBoost give highest accuracy "
   ]
  },
  {
   "cell_type": "code",
   "execution_count": 30,
   "id": "2450df3a",
   "metadata": {
    "execution": {
     "iopub.execute_input": "2024-11-26T03:00:40.817279Z",
     "iopub.status.busy": "2024-11-26T03:00:40.816795Z",
     "iopub.status.idle": "2024-11-26T03:02:11.634037Z",
     "shell.execute_reply": "2024-11-26T03:02:11.632771Z"
    },
    "papermill": {
     "duration": 90.848056,
     "end_time": "2024-11-26T03:02:11.649940",
     "exception": false,
     "start_time": "2024-11-26T03:00:40.801884",
     "status": "completed"
    },
    "tags": []
   },
   "outputs": [
    {
     "name": "stdout",
     "output_type": "stream",
     "text": [
      "Accuracy: 0.9333866382373845\n",
      "CV score 0.9238877043354655\n"
     ]
    }
   ],
   "source": [
    "model=CatBoostClassifier(verbose=0)\n",
    "classify(model)"
   ]
  },
  {
   "cell_type": "markdown",
   "id": "f78b7ec0",
   "metadata": {
    "papermill": {
     "duration": 0.012861,
     "end_time": "2024-11-26T03:02:11.675920",
     "exception": false,
     "start_time": "2024-11-26T03:02:11.663059",
     "status": "completed"
    },
    "tags": []
   },
   "source": [
    "# Submission"
   ]
  },
  {
   "cell_type": "code",
   "execution_count": 31,
   "id": "5353ee93",
   "metadata": {
    "execution": {
     "iopub.execute_input": "2024-11-26T03:02:11.703825Z",
     "iopub.status.busy": "2024-11-26T03:02:11.703359Z",
     "iopub.status.idle": "2024-11-26T03:02:11.831824Z",
     "shell.execute_reply": "2024-11-26T03:02:11.830694Z"
    },
    "papermill": {
     "duration": 0.145252,
     "end_time": "2024-11-26T03:02:11.834330",
     "exception": false,
     "start_time": "2024-11-26T03:02:11.689078",
     "status": "completed"
    },
    "tags": []
   },
   "outputs": [
    {
     "data": {
      "text/plain": [
       "array([0, 0, 0, ..., 0, 1, 0])"
      ]
     },
     "execution_count": 31,
     "metadata": {},
     "output_type": "execute_result"
    }
   ],
   "source": [
    "pred=model.predict(test)\n",
    "pred"
   ]
  },
  {
   "cell_type": "code",
   "execution_count": 32,
   "id": "b457d678",
   "metadata": {
    "execution": {
     "iopub.execute_input": "2024-11-26T03:02:11.862704Z",
     "iopub.status.busy": "2024-11-26T03:02:11.862178Z",
     "iopub.status.idle": "2024-11-26T03:02:11.875742Z",
     "shell.execute_reply": "2024-11-26T03:02:11.874347Z"
    },
    "papermill": {
     "duration": 0.03073,
     "end_time": "2024-11-26T03:02:11.878358",
     "exception": false,
     "start_time": "2024-11-26T03:02:11.847628",
     "status": "completed"
    },
    "tags": []
   },
   "outputs": [
    {
     "data": {
      "text/html": [
       "<div>\n",
       "<style scoped>\n",
       "    .dataframe tbody tr th:only-of-type {\n",
       "        vertical-align: middle;\n",
       "    }\n",
       "\n",
       "    .dataframe tbody tr th {\n",
       "        vertical-align: top;\n",
       "    }\n",
       "\n",
       "    .dataframe thead th {\n",
       "        text-align: right;\n",
       "    }\n",
       "</style>\n",
       "<table border=\"1\" class=\"dataframe\">\n",
       "  <thead>\n",
       "    <tr style=\"text-align: right;\">\n",
       "      <th></th>\n",
       "      <th>id</th>\n",
       "      <th>Depression</th>\n",
       "    </tr>\n",
       "  </thead>\n",
       "  <tbody>\n",
       "    <tr>\n",
       "      <th>0</th>\n",
       "      <td>140700</td>\n",
       "      <td>0</td>\n",
       "    </tr>\n",
       "    <tr>\n",
       "      <th>1</th>\n",
       "      <td>140701</td>\n",
       "      <td>0</td>\n",
       "    </tr>\n",
       "    <tr>\n",
       "      <th>2</th>\n",
       "      <td>140702</td>\n",
       "      <td>0</td>\n",
       "    </tr>\n",
       "    <tr>\n",
       "      <th>3</th>\n",
       "      <td>140703</td>\n",
       "      <td>1</td>\n",
       "    </tr>\n",
       "    <tr>\n",
       "      <th>4</th>\n",
       "      <td>140704</td>\n",
       "      <td>0</td>\n",
       "    </tr>\n",
       "    <tr>\n",
       "      <th>...</th>\n",
       "      <td>...</td>\n",
       "      <td>...</td>\n",
       "    </tr>\n",
       "    <tr>\n",
       "      <th>93795</th>\n",
       "      <td>234495</td>\n",
       "      <td>0</td>\n",
       "    </tr>\n",
       "    <tr>\n",
       "      <th>93796</th>\n",
       "      <td>234496</td>\n",
       "      <td>1</td>\n",
       "    </tr>\n",
       "    <tr>\n",
       "      <th>93797</th>\n",
       "      <td>234497</td>\n",
       "      <td>0</td>\n",
       "    </tr>\n",
       "    <tr>\n",
       "      <th>93798</th>\n",
       "      <td>234498</td>\n",
       "      <td>1</td>\n",
       "    </tr>\n",
       "    <tr>\n",
       "      <th>93799</th>\n",
       "      <td>234499</td>\n",
       "      <td>0</td>\n",
       "    </tr>\n",
       "  </tbody>\n",
       "</table>\n",
       "<p>93800 rows × 2 columns</p>\n",
       "</div>"
      ],
      "text/plain": [
       "           id  Depression\n",
       "0      140700           0\n",
       "1      140701           0\n",
       "2      140702           0\n",
       "3      140703           1\n",
       "4      140704           0\n",
       "...       ...         ...\n",
       "93795  234495           0\n",
       "93796  234496           1\n",
       "93797  234497           0\n",
       "93798  234498           1\n",
       "93799  234499           0\n",
       "\n",
       "[93800 rows x 2 columns]"
      ]
     },
     "execution_count": 32,
     "metadata": {},
     "output_type": "execute_result"
    }
   ],
   "source": [
    "submission[\"Depression\"]=pred\n",
    "submission"
   ]
  },
  {
   "cell_type": "code",
   "execution_count": 33,
   "id": "2cb4af42",
   "metadata": {
    "execution": {
     "iopub.execute_input": "2024-11-26T03:02:11.909433Z",
     "iopub.status.busy": "2024-11-26T03:02:11.908445Z",
     "iopub.status.idle": "2024-11-26T03:02:11.987612Z",
     "shell.execute_reply": "2024-11-26T03:02:11.986409Z"
    },
    "papermill": {
     "duration": 0.098287,
     "end_time": "2024-11-26T03:02:11.990252",
     "exception": false,
     "start_time": "2024-11-26T03:02:11.891965",
     "status": "completed"
    },
    "tags": []
   },
   "outputs": [],
   "source": [
    "submission.to_csv(\"submission.csv\",index=False)"
   ]
  }
 ],
 "metadata": {
  "kaggle": {
   "accelerator": "none",
   "dataSources": [
    {
     "databundleVersionId": 10008389,
     "sourceId": 84895,
     "sourceType": "competition"
    }
   ],
   "dockerImageVersionId": 30786,
   "isGpuEnabled": false,
   "isInternetEnabled": true,
   "language": "python",
   "sourceType": "notebook"
  },
  "kernelspec": {
   "display_name": "Python 3",
   "language": "python",
   "name": "python3"
  },
  "language_info": {
   "codemirror_mode": {
    "name": "ipython",
    "version": 3
   },
   "file_extension": ".py",
   "mimetype": "text/x-python",
   "name": "python",
   "nbconvert_exporter": "python",
   "pygments_lexer": "ipython3",
   "version": "3.10.14"
  },
  "papermill": {
   "default_parameters": {},
   "duration": 218.482329,
   "end_time": "2024-11-26T03:02:13.027912",
   "environment_variables": {},
   "exception": null,
   "input_path": "__notebook__.ipynb",
   "output_path": "__notebook__.ipynb",
   "parameters": {},
   "start_time": "2024-11-26T02:58:34.545583",
   "version": "2.6.0"
  }
 },
 "nbformat": 4,
 "nbformat_minor": 5
}
